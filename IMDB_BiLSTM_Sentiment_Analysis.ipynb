{
 "cells": [
  {
   "cell_type": "markdown",
   "id": "894c2a86",
   "metadata": {},
   "source": [
    "# IMDB Sentiment Analysis with BiLSTM\n",
    "\n",
    "This project builds a Bidirectional LSTM model to classify IMDB movie reviews as positive or negative. \n",
    "It includes data preprocessing, sequence padding, model training with early stopping, and evaluation. \n",
    "Sample predictions demonstrate the model's ability to analyze sentiment in text.\n"
   ]
  },
  {
   "cell_type": "code",
   "execution_count": 1,
   "id": "621f1bd5-5471-4cfc-98a4-3ac6958b4e93",
   "metadata": {},
   "outputs": [],
   "source": [
    "import warnings, numpy as np, tensorflow as tf\n",
    "warnings.filterwarnings('ignore')\n",
    "\n",
    "from tensorflow import keras\n",
    "from tensorflow.keras.datasets import imdb\n",
    "from tensorflow.keras.preprocessing.sequence import pad_sequences\n",
    "from tensorflow.keras.models import Sequential\n",
    "from tensorflow.keras.layers import Embedding, Bidirectional, LSTM, Dense, Dropout\n",
    "from tensorflow.keras.callbacks import EarlyStopping, ModelCheckpoint\n",
    "from tensorflow.keras.preprocessing.text import text_to_word_sequence\n",
    "import matplotlib.pyplot as plt"
   ]
  },
  {
   "cell_type": "code",
   "execution_count": 2,
   "id": "997e1b68-03fa-4c41-a37a-a5ac4a2351f1",
   "metadata": {},
   "outputs": [
    {
     "name": "stdout",
     "output_type": "stream",
     "text": [
      "Train: (25000, 200)  Test: (25000, 200)\n"
     ]
    }
   ],
   "source": [
    "np.random.seed(42)\n",
    "tf.random.set_seed(42)\n",
    "\n",
    "# Define parameters\n",
    "max_features = 20_000   # maximum number of words in vocabulary\n",
    "max_len      = 200      # maximum length of a sequence\n",
    "\n",
    "# Load IMDB dataset\n",
    "(x_train, y_train), (x_test, y_test) = imdb.load_data(num_words=max_features)\n",
    "\n",
    "# Pad sequences to the same length\n",
    "x_train = pad_sequences(x_train, maxlen=max_len)\n",
    "x_test  = pad_sequences(x_test,  maxlen=max_len)\n",
    "\n",
    "print(f\"Train: {x_train.shape}  Test: {x_test.shape}\")"
   ]
  },
  {
   "cell_type": "code",
   "execution_count": 14,
   "id": "474e6cb9-e242-4500-b3b6-5f10bdb2a2aa",
   "metadata": {},
   "outputs": [
    {
     "data": {
      "text/html": [
       "<pre style=\"white-space:pre;overflow-x:auto;line-height:normal;font-family:Menlo,'DejaVu Sans Mono',consolas,'Courier New',monospace\"><span style=\"font-weight: bold\">Model: \"sequential_2\"</span>\n",
       "</pre>\n"
      ],
      "text/plain": [
       "\u001b[1mModel: \"sequential_2\"\u001b[0m\n"
      ]
     },
     "metadata": {},
     "output_type": "display_data"
    },
    {
     "data": {
      "text/html": [
       "<pre style=\"white-space:pre;overflow-x:auto;line-height:normal;font-family:Menlo,'DejaVu Sans Mono',consolas,'Courier New',monospace\">┏━━━━━━━━━━━━━━━━━━━━━━━━━━━━━━━━━┳━━━━━━━━━━━━━━━━━━━━━━━━┳━━━━━━━━━━━━━━━┓\n",
       "┃<span style=\"font-weight: bold\"> Layer (type)                    </span>┃<span style=\"font-weight: bold\"> Output Shape           </span>┃<span style=\"font-weight: bold\">       Param # </span>┃\n",
       "┡━━━━━━━━━━━━━━━━━━━━━━━━━━━━━━━━━╇━━━━━━━━━━━━━━━━━━━━━━━━╇━━━━━━━━━━━━━━━┩\n",
       "│ embedding_2 (<span style=\"color: #0087ff; text-decoration-color: #0087ff\">Embedding</span>)         │ ?                      │   <span style=\"color: #00af00; text-decoration-color: #00af00\">0</span> (unbuilt) │\n",
       "├─────────────────────────────────┼────────────────────────┼───────────────┤\n",
       "│ bidirectional_2 (<span style=\"color: #0087ff; text-decoration-color: #0087ff\">Bidirectional</span>) │ ?                      │   <span style=\"color: #00af00; text-decoration-color: #00af00\">0</span> (unbuilt) │\n",
       "├─────────────────────────────────┼────────────────────────┼───────────────┤\n",
       "│ dropout_4 (<span style=\"color: #0087ff; text-decoration-color: #0087ff\">Dropout</span>)             │ ?                      │             <span style=\"color: #00af00; text-decoration-color: #00af00\">0</span> │\n",
       "├─────────────────────────────────┼────────────────────────┼───────────────┤\n",
       "│ dense_4 (<span style=\"color: #0087ff; text-decoration-color: #0087ff\">Dense</span>)                 │ ?                      │   <span style=\"color: #00af00; text-decoration-color: #00af00\">0</span> (unbuilt) │\n",
       "├─────────────────────────────────┼────────────────────────┼───────────────┤\n",
       "│ dropout_5 (<span style=\"color: #0087ff; text-decoration-color: #0087ff\">Dropout</span>)             │ ?                      │             <span style=\"color: #00af00; text-decoration-color: #00af00\">0</span> │\n",
       "├─────────────────────────────────┼────────────────────────┼───────────────┤\n",
       "│ dense_5 (<span style=\"color: #0087ff; text-decoration-color: #0087ff\">Dense</span>)                 │ ?                      │   <span style=\"color: #00af00; text-decoration-color: #00af00\">0</span> (unbuilt) │\n",
       "└─────────────────────────────────┴────────────────────────┴───────────────┘\n",
       "</pre>\n"
      ],
      "text/plain": [
       "┏━━━━━━━━━━━━━━━━━━━━━━━━━━━━━━━━━┳━━━━━━━━━━━━━━━━━━━━━━━━┳━━━━━━━━━━━━━━━┓\n",
       "┃\u001b[1m \u001b[0m\u001b[1mLayer (type)                   \u001b[0m\u001b[1m \u001b[0m┃\u001b[1m \u001b[0m\u001b[1mOutput Shape          \u001b[0m\u001b[1m \u001b[0m┃\u001b[1m \u001b[0m\u001b[1m      Param #\u001b[0m\u001b[1m \u001b[0m┃\n",
       "┡━━━━━━━━━━━━━━━━━━━━━━━━━━━━━━━━━╇━━━━━━━━━━━━━━━━━━━━━━━━╇━━━━━━━━━━━━━━━┩\n",
       "│ embedding_2 (\u001b[38;5;33mEmbedding\u001b[0m)         │ ?                      │   \u001b[38;5;34m0\u001b[0m (unbuilt) │\n",
       "├─────────────────────────────────┼────────────────────────┼───────────────┤\n",
       "│ bidirectional_2 (\u001b[38;5;33mBidirectional\u001b[0m) │ ?                      │   \u001b[38;5;34m0\u001b[0m (unbuilt) │\n",
       "├─────────────────────────────────┼────────────────────────┼───────────────┤\n",
       "│ dropout_4 (\u001b[38;5;33mDropout\u001b[0m)             │ ?                      │             \u001b[38;5;34m0\u001b[0m │\n",
       "├─────────────────────────────────┼────────────────────────┼───────────────┤\n",
       "│ dense_4 (\u001b[38;5;33mDense\u001b[0m)                 │ ?                      │   \u001b[38;5;34m0\u001b[0m (unbuilt) │\n",
       "├─────────────────────────────────┼────────────────────────┼───────────────┤\n",
       "│ dropout_5 (\u001b[38;5;33mDropout\u001b[0m)             │ ?                      │             \u001b[38;5;34m0\u001b[0m │\n",
       "├─────────────────────────────────┼────────────────────────┼───────────────┤\n",
       "│ dense_5 (\u001b[38;5;33mDense\u001b[0m)                 │ ?                      │   \u001b[38;5;34m0\u001b[0m (unbuilt) │\n",
       "└─────────────────────────────────┴────────────────────────┴───────────────┘\n"
      ]
     },
     "metadata": {},
     "output_type": "display_data"
    },
    {
     "data": {
      "text/html": [
       "<pre style=\"white-space:pre;overflow-x:auto;line-height:normal;font-family:Menlo,'DejaVu Sans Mono',consolas,'Courier New',monospace\"><span style=\"font-weight: bold\"> Total params: </span><span style=\"color: #00af00; text-decoration-color: #00af00\">0</span> (0.00 B)\n",
       "</pre>\n"
      ],
      "text/plain": [
       "\u001b[1m Total params: \u001b[0m\u001b[38;5;34m0\u001b[0m (0.00 B)\n"
      ]
     },
     "metadata": {},
     "output_type": "display_data"
    },
    {
     "data": {
      "text/html": [
       "<pre style=\"white-space:pre;overflow-x:auto;line-height:normal;font-family:Menlo,'DejaVu Sans Mono',consolas,'Courier New',monospace\"><span style=\"font-weight: bold\"> Trainable params: </span><span style=\"color: #00af00; text-decoration-color: #00af00\">0</span> (0.00 B)\n",
       "</pre>\n"
      ],
      "text/plain": [
       "\u001b[1m Trainable params: \u001b[0m\u001b[38;5;34m0\u001b[0m (0.00 B)\n"
      ]
     },
     "metadata": {},
     "output_type": "display_data"
    },
    {
     "data": {
      "text/html": [
       "<pre style=\"white-space:pre;overflow-x:auto;line-height:normal;font-family:Menlo,'DejaVu Sans Mono',consolas,'Courier New',monospace\"><span style=\"font-weight: bold\"> Non-trainable params: </span><span style=\"color: #00af00; text-decoration-color: #00af00\">0</span> (0.00 B)\n",
       "</pre>\n"
      ],
      "text/plain": [
       "\u001b[1m Non-trainable params: \u001b[0m\u001b[38;5;34m0\u001b[0m (0.00 B)\n"
      ]
     },
     "metadata": {},
     "output_type": "display_data"
    }
   ],
   "source": [
    "# Model hyperparameters\n",
    "embedding_dim = 128\n",
    "lstm_units    = 64\n",
    "\n",
    "# Build the model\n",
    "model = Sequential([\n",
    "    Embedding(\n",
    "        input_dim=max_features,\n",
    "        output_dim=embedding_dim,\n",
    "        input_length=max_len\n",
    "    ),\n",
    "\n",
    "# Bidirectional LSTM layer\n",
    "    Bidirectional(\n",
    "        LSTM(lstm_units, return_sequences=False)\n",
    "    ),\n",
    "\n",
    "    Dropout(0.3),                 #reduce overfitting\n",
    "    Dense(32, activation='relu'),\n",
    "    Dropout(0.3),\n",
    "    Dense(1, activation='sigmoid')    #binary classification\n",
    "])\n",
    "\n",
    "# Compile the model\n",
    "model.compile(\n",
    "    loss='binary_crossentropy',\n",
    "    optimizer=keras.optimizers.Adam(learning_rate=1e-3),\n",
    "    metrics=['accuracy']\n",
    ")\n",
    "\n",
    "model.summary()"
   ]
  },
  {
   "cell_type": "code",
   "execution_count": null,
   "id": "b63ada11-ac3b-4762-a472-fd71f635c268",
   "metadata": {},
   "outputs": [
    {
     "name": "stdout",
     "output_type": "stream",
     "text": [
      "Epoch 1/20\n",
      "157/157 - 150s - 957ms/step - accuracy: 0.7552 - loss: 0.4766 - val_accuracy: 0.8678 - val_loss: 0.3213\n",
      "Epoch 2/20\n",
      "157/157 - 136s - 868ms/step - accuracy: 0.9105 - loss: 0.2328 - val_accuracy: 0.8576 - val_loss: 0.3265\n",
      "Epoch 3/20\n",
      "157/157 - 146s - 931ms/step - accuracy: 0.9366 - loss: 0.1792 - val_accuracy: 0.8506 - val_loss: 0.3791\n",
      "Epoch 4/20\n",
      "157/157 - 130s - 828ms/step - accuracy: 0.9460 - loss: 0.1491 - val_accuracy: 0.8670 - val_loss: 0.3625\n"
     ]
    }
   ],
   "source": [
    "# Callbacks\n",
    "callbacks = [\n",
    "    EarlyStopping(patience=3, restore_best_weights=True, monitor='val_loss'),\n",
    "    ModelCheckpoint('best_lstm.keras', save_best_only=True, monitor='val_accuracy')\n",
    "]\n",
    "# Train the model\n",
    "history = model.fit(\n",
    "    x_train, y_train,\n",
    "    batch_size=128,\n",
    "    epochs=20,\n",
    "    validation_split=0.2,\n",
    "    callbacks=callbacks,\n",
    "    verbose=2\n",
    ")"
   ]
  },
  {
   "cell_type": "code",
   "execution_count": null,
   "id": "fa654a2e-2994-497f-b758-724f537e79fe",
   "metadata": {},
   "outputs": [
    {
     "name": "stdout",
     "output_type": "stream",
     "text": [
      "\n",
      "Test loss : 0.3296\n",
      "Test acc  : 0.8624\n"
     ]
    }
   ],
   "source": [
    "# Evaluate the model on test data\n",
    "score, acc = model.evaluate(x_test, y_test, batch_size=128, verbose=0)\n",
    "print(f\"\\nTest loss : {score:.4f}\")\n",
    "print(f\"Test acc  : {acc:.4f}\")"
   ]
  },
  {
   "cell_type": "code",
   "execution_count": null,
   "id": "58e4f14b-fad3-484f-a0eb-c2e5a1857b64",
   "metadata": {},
   "outputs": [],
   "source": [
    "# Get word index mapping\n",
    "word_index = imdb.get_word_index()\n",
    "index_offset = 3\n",
    "\n",
    "# Function to encode text reviews to sequences\n",
    "def encode_review(text):\n",
    "    tokens = text_to_word_sequence(text.lower())\n",
    "    seq = [\n",
    "        word_index.get(t, 2) + index_offset\n",
    "        for t in tokens\n",
    "        if (word_index.get(t, 2) + index_offset) < max_features\n",
    "    ]\n",
    "    return seq"
   ]
  },
  {
   "cell_type": "code",
   "execution_count": null,
   "id": "660b460c-2312-4865-a2d7-07f40ba130c0",
   "metadata": {},
   "outputs": [],
   "source": [
    "# Function to predict sentiment of reviews\n",
    "def predict_reviews(reviews, threshold=0.5):\n",
    "    seqs = [encode_review(r) for r in reviews]\n",
    "\n",
    "    padded = pad_sequences(seqs, maxlen=max_len)\n",
    "\n",
    "    probs  = model.predict(padded).ravel()\n",
    "\n",
    "    labels = (probs >= threshold).astype(int)\n",
    "    \n",
    "    for r, p, l in zip(reviews, probs, labels):\n",
    "        print(f\"{p:0.3f}  ({'pos' if l else 'neg'})  -> {r}\")"
   ]
  },
  {
   "cell_type": "code",
   "execution_count": null,
   "id": "56b5fd42-0bda-4c33-b3bc-6c27463bbef2",
   "metadata": {},
   "outputs": [
    {
     "name": "stdout",
     "output_type": "stream",
     "text": [
      "\u001b[1m1/1\u001b[0m \u001b[32m━━━━━━━━━━━━━━━━━━━━\u001b[0m\u001b[37m\u001b[0m \u001b[1m1s\u001b[0m 1s/step\n",
      "0.878  (pos)  -> This movie was wonderful and inspiring\n",
      "0.093  (neg)  -> Terrible plot and awful acting\n",
      "0.252  (neg)  -> Not bad but could be better\n",
      "0.848  (pos)  -> Absolutely fantastic! I loved every minute\n",
      "0.303  (neg)  -> The film was boring and too slow\n"
     ]
    }
   ],
   "source": [
    "# Sample reviews to test the model\n",
    "sample_reviews = [\n",
    "    \"This movie was wonderful and inspiring\",\n",
    "    \"Terrible plot and awful acting\",\n",
    "    \"Not bad but could be better\",\n",
    "    \"Absolutely fantastic! I loved every minute\",\n",
    "    \"The film was boring and too slow\"\n",
    "]\n",
    "\n",
    "predict_reviews(sample_reviews)"
   ]
  },
  {
   "cell_type": "code",
   "execution_count": 13,
   "id": "eb0ba9b1-3011-4ebd-8fef-2e8ab56db55f",
   "metadata": {},
   "outputs": [
    {
     "data": {
      "image/png": "[encoded data removed]",
      "text/plain": [
       "<Figure size 640x480 with 1 Axes>"
      ]
     },
     "metadata": {},
     "output_type": "display_data"
    }
   ],
   "source": [
    "# Plot training vs validation accuracy\n",
    "plt.plot(history.history['accuracy'], label='Training Accuracy')\n",
    "plt.plot(history.history['val_accuracy'], label='Validation Accuracy')\n",
    "plt.xlabel(\"Epoch\")\n",
    "plt.ylabel(\"Accuracy\")\n",
    "plt.legend()\n",
    "plt.title(\"Training vs Validation Accuracy\")\n",
    "plt.grid()\n",
    "plt.show()\n"
   ]
  },
  {
   "cell_type": "code",
   "execution_count": null,
   "id": "58baa518-e784-444c-81f5-6e15b7d3e91c",
   "metadata": {},
   "outputs": [],
   "source": []
  }
 ],
 "metadata": {
  "kernelspec": {
   "display_name": "Python 3",
   "language": "python",
   "name": "python3"
  },
  "language_info": {
   "codemirror_mode": {
    "name": "ipython",
    "version": 3
   },
   "file_extension": ".py",
   "mimetype": "text/x-python",
   "name": "python",
   "nbconvert_exporter": "python",
   "pygments_lexer": "ipython3",
   "version": "3.10.0"
  },
  "widgets": {
   "application/vnd.jupyter.widget-state+json": {
    "state": {},
    "version_major": 2,
    "version_minor": 0
   }
  }
 },
 "nbformat": 4,
 "nbformat_minor": 5
}
