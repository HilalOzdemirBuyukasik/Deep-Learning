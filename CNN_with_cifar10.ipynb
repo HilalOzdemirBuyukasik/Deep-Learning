{
 "cells": [
  {
   "cell_type": "markdown",
   "id": "c8a763db-3f82-4af3-af70-5d9f5c8a7f9a",
   "metadata": {},
   "source": [
    "# CNN (Conventional Neural Network)"
   ]
  },
  {
   "cell_type": "markdown",
   "id": "451a2bba",
   "metadata": {},
   "source": [
    "##### CIFAR-10 Image Classification with CNN\n",
    "\n",
    "*This project implements a Convolutional Neural Network (CNN) with batch normalization, dropout, and data augmentation to classify images from the CIFAR-10 dataset into 10 categories (airplane, automobile, bird, cat, deer, dog, frog, horse, ship, and truck). The model is trained with early stopping and learning rate reduction, achieving accurate predictions and providing visualization of class probabilities for sample images.*\n"
   ]
  },
  {
   "cell_type": "code",
   "execution_count": 31,
   "id": "aefc201d-bfc3-4f38-9022-317fc68d48ff",
   "metadata": {},
   "outputs": [],
   "source": [
    "# Import required libraries\n",
    "import warnings\n",
    "warnings.filterwarnings(\"ignore\")\n",
    "from tensorflow import keras \n",
    "from tensorflow.keras.datasets import cifar10\n",
    "from tensorflow.keras.preprocessing.image import ImageDataGenerator\n",
    "from tensorflow.keras.models import Sequential\n",
    "from tensorflow.keras.layers import Dense, Dropout, Activation, Flatten\n",
    "from tensorflow.keras.layers import Conv2D, MaxPooling2D\n",
    "import numpy as np\n",
    "import matplotlib.pyplot as plt\n",
    "from sklearn.metrics import confusion_matrix, classification_report, accuracy_score\n",
    "import pandas as pd"
   ]
  },
  {
   "cell_type": "code",
   "execution_count": null,
   "id": "4c9c5901-57d1-4332-977a-8016009f7d75",
   "metadata": {},
   "outputs": [
    {
     "name": "stdout",
     "output_type": "stream",
     "text": [
      "x_train shape: (50000, 32, 32, 3)\n",
      "50000 train samples\n",
      "10000 test samples\n"
     ]
    }
   ],
   "source": [
    "# Load CIFAR-10 dataset\n",
    "(x_train, y_train), (x_test, y_test) = cifar10.load_data()\n",
    "print('x_train shape:', x_train.shape)\n",
    "print(x_train.shape[0], 'train samples')\n",
    "print(x_test.shape[0], 'test samples')"
   ]
  },
  {
   "cell_type": "code",
   "execution_count": 3,
   "id": "f37fe28b-59de-4e18-a659-272e64563a0c",
   "metadata": {},
   "outputs": [
    {
     "data": {
      "text/plain": [
       "(32, 32, 3)"
      ]
     },
     "execution_count": 3,
     "metadata": {},
     "output_type": "execute_result"
    }
   ],
   "source": [
    "x_train[444].shape"
   ]
  },
  {
   "cell_type": "code",
   "execution_count": null,
   "id": "df236d40-3c75-4694-a854-371a0da24b2a",
   "metadata": {},
   "outputs": [
    {
     "data": {
      "text/plain": [
       "<matplotlib.image.AxesImage at 0x229c80c40a0>"
      ]
     },
     "execution_count": 4,
     "metadata": {},
     "output_type": "execute_result"
    },
    {
     "data": {
      "image/png": "[encoded data removed]",
      "text/plain": [
       "<Figure size 640x480 with 1 Axes>"
      ]
     },
     "metadata": {},
     "output_type": "display_data"
    }
   ],
   "source": [
    "# Show a sample image\n",
    "plt.imshow(x_train[444])"
   ]
  },
  {
   "cell_type": "code",
   "execution_count": 5,
   "id": "f8a0ecca-5681-48d5-b3e2-ac54d33e0a9f",
   "metadata": {},
   "outputs": [
    {
     "data": {
      "text/plain": [
       "array([0, 1, 2, 3, 4, 5, 6, 7, 8, 9], dtype=uint8)"
      ]
     },
     "execution_count": 5,
     "metadata": {},
     "output_type": "execute_result"
    }
   ],
   "source": [
    "np.unique(y_train)"
   ]
  },
  {
   "cell_type": "code",
   "execution_count": null,
   "id": "8b24cbf8-d447-4ef3-9041-dc01366311f6",
   "metadata": {},
   "outputs": [],
   "source": [
    "# Normalize dataset (mean = 0, std = 1)\n",
    "mean = np.mean(x_train, axis=(0, 1, 2), keepdims=True)\n",
    "std = np.std(x_train, axis=(0, 1, 2), keepdims=True) + 1e-7\n",
    "\n",
    "x_train = (x_train - mean) / std\n",
    "x_test = (x_test - mean) / std"
   ]
  },
  {
   "cell_type": "code",
   "execution_count": null,
   "id": "8267f8cc-53d9-4938-8a8d-5ae092e7bb06",
   "metadata": {},
   "outputs": [],
   "source": [
    "# Convert labels to one-hot encoding\n",
    "num_classes = 10\n",
    "\n",
    "y_train = keras.utils.to_categorical(y_train, num_classes)\n",
    "y_test = keras.utils.to_categorical(y_test, num_classes)"
   ]
  },
  {
   "cell_type": "code",
   "execution_count": 8,
   "id": "876972df-7609-439c-a658-01bbabc35e4f",
   "metadata": {},
   "outputs": [
    {
     "data": {
      "text/plain": [
       "array([0., 0., 0., 0., 0., 0., 0., 0., 0., 1.])"
      ]
     },
     "execution_count": 8,
     "metadata": {},
     "output_type": "execute_result"
    }
   ],
   "source": [
    "y_train[444]"
   ]
  },
  {
   "cell_type": "code",
   "execution_count": null,
   "id": "9bcebf3e-657c-42d5-a70b-733def582df2",
   "metadata": {},
   "outputs": [],
   "source": [
    "# Build CNN model with Batch Normalization and Dropout\n",
    "from tensorflow.keras.layers import BatchNormalization\n",
    "\n",
    "model_2 = Sequential([\n",
    "    Conv2D(32, (3,3), padding='same', input_shape=x_train.shape[1:]),\n",
    "    BatchNormalization(), Activation('relu'),\n",
    "    Conv2D(32, (3,3), padding='same'),\n",
    "    BatchNormalization(), Activation('relu'),\n",
    "    MaxPooling2D((2,2)), Dropout(0.25),\n",
    "\n",
    "    Conv2D(64, (3,3), padding='same'),\n",
    "    BatchNormalization(), Activation('relu'),\n",
    "    Conv2D(64, (3,3), padding='same'),\n",
    "    BatchNormalization(), Activation('relu'),\n",
    "    MaxPooling2D((2,2)), Dropout(0.25),\n",
    "\n",
    "    Flatten(),\n",
    "    Dense(512), BatchNormalization(), Activation('relu'),\n",
    "    Dropout(0.5),\n",
    "    Dense(10, activation='softmax')\n",
    "])"
   ]
  },
  {
   "cell_type": "code",
   "execution_count": null,
   "id": "dbf92155-0b7b-4f4d-99e2-7019735d00a3",
   "metadata": {},
   "outputs": [
    {
     "name": "stdout",
     "output_type": "stream",
     "text": [
      "Epoch 1/50\n",
      "\u001b[1m782/782\u001b[0m \u001b[32m━━━━━━━━━━━━━━━━━━━━\u001b[0m\u001b[37m\u001b[0m \u001b[1m130s\u001b[0m 164ms/step - accuracy: 0.4797 - loss: 1.4826 - val_accuracy: 0.6113 - val_loss: 1.1091 - learning_rate: 0.0010\n",
      "Epoch 2/50\n",
      "\u001b[1m782/782\u001b[0m \u001b[32m━━━━━━━━━━━━━━━━━━━━\u001b[0m\u001b[37m\u001b[0m \u001b[1m180s\u001b[0m 212ms/step - accuracy: 0.6231 - loss: 1.0653 - val_accuracy: 0.6875 - val_loss: 0.9142 - learning_rate: 0.0010\n",
      "Epoch 3/50\n",
      "\u001b[1m782/782\u001b[0m \u001b[32m━━━━━━━━━━━━━━━━━━━━\u001b[0m\u001b[37m\u001b[0m \u001b[1m164s\u001b[0m 210ms/step - accuracy: 0.6667 - loss: 0.9450 - val_accuracy: 0.7166 - val_loss: 0.8066 - learning_rate: 0.0010\n",
      "Epoch 4/50\n",
      "\u001b[1m782/782\u001b[0m \u001b[32m━━━━━━━━━━━━━━━━━━━━\u001b[0m\u001b[37m\u001b[0m \u001b[1m144s\u001b[0m 184ms/step - accuracy: 0.6946 - loss: 0.8693 - val_accuracy: 0.7365 - val_loss: 0.7295 - learning_rate: 0.0010\n",
      "Epoch 5/50\n",
      "\u001b[1m782/782\u001b[0m \u001b[32m━━━━━━━━━━━━━━━━━━━━\u001b[0m\u001b[37m\u001b[0m \u001b[1m133s\u001b[0m 170ms/step - accuracy: 0.7122 - loss: 0.8120 - val_accuracy: 0.7248 - val_loss: 0.7888 - learning_rate: 0.0010\n",
      "Epoch 6/50\n",
      "\u001b[1m782/782\u001b[0m \u001b[32m━━━━━━━━━━━━━━━━━━━━\u001b[0m\u001b[37m\u001b[0m \u001b[1m156s\u001b[0m 200ms/step - accuracy: 0.7299 - loss: 0.7724 - val_accuracy: 0.7438 - val_loss: 0.7656 - learning_rate: 0.0010\n",
      "Epoch 7/50\n",
      "\u001b[1m782/782\u001b[0m \u001b[32m━━━━━━━━━━━━━━━━━━━━\u001b[0m\u001b[37m\u001b[0m \u001b[1m203s\u001b[0m 260ms/step - accuracy: 0.7387 - loss: 0.7458 - val_accuracy: 0.7443 - val_loss: 0.7517 - learning_rate: 0.0010\n",
      "Epoch 8/50\n",
      "\u001b[1m782/782\u001b[0m \u001b[32m━━━━━━━━━━━━━━━━━━━━\u001b[0m\u001b[37m\u001b[0m \u001b[1m152s\u001b[0m 195ms/step - accuracy: 0.7504 - loss: 0.7092 - val_accuracy: 0.7682 - val_loss: 0.6669 - learning_rate: 0.0010\n",
      "Epoch 9/50\n",
      "\u001b[1m782/782\u001b[0m \u001b[32m━━━━━━━━━━━━━━━━━━━━\u001b[0m\u001b[37m\u001b[0m \u001b[1m125s\u001b[0m 160ms/step - accuracy: 0.7603 - loss: 0.6881 - val_accuracy: 0.7870 - val_loss: 0.6207 - learning_rate: 0.0010\n",
      "Epoch 10/50\n",
      "\u001b[1m782/782\u001b[0m \u001b[32m━━━━━━━━━━━━━━━━━━━━\u001b[0m\u001b[37m\u001b[0m \u001b[1m177s\u001b[0m 227ms/step - accuracy: 0.7678 - loss: 0.6648 - val_accuracy: 0.8046 - val_loss: 0.5716 - learning_rate: 0.0010\n",
      "Epoch 11/50\n",
      "\u001b[1m782/782\u001b[0m \u001b[32m━━━━━━━━━━━━━━━━━━━━\u001b[0m\u001b[37m\u001b[0m \u001b[1m178s\u001b[0m 195ms/step - accuracy: 0.7753 - loss: 0.6406 - val_accuracy: 0.7817 - val_loss: 0.6412 - learning_rate: 0.0010\n",
      "Epoch 12/50\n",
      "\u001b[1m782/782\u001b[0m \u001b[32m━━━━━━━━━━━━━━━━━━━━\u001b[0m\u001b[37m\u001b[0m \u001b[1m134s\u001b[0m 172ms/step - accuracy: 0.7830 - loss: 0.6265 - val_accuracy: 0.8052 - val_loss: 0.5769 - learning_rate: 0.0010\n",
      "Epoch 13/50\n",
      "\u001b[1m782/782\u001b[0m \u001b[32m━━━━━━━━━━━━━━━━━━━━\u001b[0m\u001b[37m\u001b[0m \u001b[1m187s\u001b[0m 240ms/step - accuracy: 0.7868 - loss: 0.6125 - val_accuracy: 0.7851 - val_loss: 0.6288 - learning_rate: 0.0010\n",
      "Epoch 14/50\n",
      "\u001b[1m782/782\u001b[0m \u001b[32m━━━━━━━━━━━━━━━━━━━━\u001b[0m\u001b[37m\u001b[0m \u001b[1m191s\u001b[0m 244ms/step - accuracy: 0.7930 - loss: 0.5953 - val_accuracy: 0.8223 - val_loss: 0.5232 - learning_rate: 0.0010\n",
      "Epoch 15/50\n",
      "\u001b[1m782/782\u001b[0m \u001b[32m━━━━━━━━━━━━━━━━━━━━\u001b[0m\u001b[37m\u001b[0m \u001b[1m165s\u001b[0m 211ms/step - accuracy: 0.7936 - loss: 0.5888 - val_accuracy: 0.8229 - val_loss: 0.5139 - learning_rate: 0.0010\n",
      "Epoch 16/50\n",
      "\u001b[1m782/782\u001b[0m \u001b[32m━━━━━━━━━━━━━━━━━━━━\u001b[0m\u001b[37m\u001b[0m \u001b[1m157s\u001b[0m 201ms/step - accuracy: 0.8002 - loss: 0.5738 - val_accuracy: 0.8236 - val_loss: 0.5157 - learning_rate: 0.0010\n",
      "Epoch 17/50\n",
      "\u001b[1m782/782\u001b[0m \u001b[32m━━━━━━━━━━━━━━━━━━━━\u001b[0m\u001b[37m\u001b[0m \u001b[1m143s\u001b[0m 183ms/step - accuracy: 0.8041 - loss: 0.5604 - val_accuracy: 0.8199 - val_loss: 0.5276 - learning_rate: 0.0010\n",
      "Epoch 18/50\n",
      "\u001b[1m782/782\u001b[0m \u001b[32m━━━━━━━━━━━━━━━━━━━━\u001b[0m\u001b[37m\u001b[0m \u001b[1m134s\u001b[0m 172ms/step - accuracy: 0.8053 - loss: 0.5546 - val_accuracy: 0.8167 - val_loss: 0.5446 - learning_rate: 0.0010\n",
      "Epoch 19/50\n",
      "\u001b[1m782/782\u001b[0m \u001b[32m━━━━━━━━━━━━━━━━━━━━\u001b[0m\u001b[37m\u001b[0m \u001b[1m142s\u001b[0m 181ms/step - accuracy: 0.8124 - loss: 0.5434 - val_accuracy: 0.7832 - val_loss: 0.6506 - learning_rate: 0.0010\n",
      "Epoch 20/50\n",
      "\u001b[1m782/782\u001b[0m \u001b[32m━━━━━━━━━━━━━━━━━━━━\u001b[0m\u001b[37m\u001b[0m \u001b[1m118s\u001b[0m 151ms/step - accuracy: 0.8126 - loss: 0.5346 - val_accuracy: 0.8390 - val_loss: 0.4803 - learning_rate: 0.0010\n",
      "Epoch 21/50\n",
      "\u001b[1m782/782\u001b[0m \u001b[32m━━━━━━━━━━━━━━━━━━━━\u001b[0m\u001b[37m\u001b[0m \u001b[1m187s\u001b[0m 239ms/step - accuracy: 0.8163 - loss: 0.5264 - val_accuracy: 0.8377 - val_loss: 0.4773 - learning_rate: 0.0010\n",
      "Epoch 22/50\n",
      "\u001b[1m782/782\u001b[0m \u001b[32m━━━━━━━━━━━━━━━━━━━━\u001b[0m\u001b[37m\u001b[0m \u001b[1m192s\u001b[0m 246ms/step - accuracy: 0.8184 - loss: 0.5204 - val_accuracy: 0.8383 - val_loss: 0.4637 - learning_rate: 0.0010\n",
      "Epoch 23/50\n",
      "\u001b[1m782/782\u001b[0m \u001b[32m━━━━━━━━━━━━━━━━━━━━\u001b[0m\u001b[37m\u001b[0m \u001b[1m192s\u001b[0m 245ms/step - accuracy: 0.8214 - loss: 0.5085 - val_accuracy: 0.8422 - val_loss: 0.4635 - learning_rate: 0.0010\n",
      "Epoch 24/50\n",
      "\u001b[1m782/782\u001b[0m \u001b[32m━━━━━━━━━━━━━━━━━━━━\u001b[0m\u001b[37m\u001b[0m \u001b[1m199s\u001b[0m 255ms/step - accuracy: 0.8254 - loss: 0.5024 - val_accuracy: 0.8484 - val_loss: 0.4493 - learning_rate: 0.0010\n",
      "Epoch 25/50\n",
      "\u001b[1m782/782\u001b[0m \u001b[32m━━━━━━━━━━━━━━━━━━━━\u001b[0m\u001b[37m\u001b[0m \u001b[1m180s\u001b[0m 230ms/step - accuracy: 0.8237 - loss: 0.5033 - val_accuracy: 0.8290 - val_loss: 0.5046 - learning_rate: 0.0010\n",
      "Epoch 26/50\n",
      "\u001b[1m782/782\u001b[0m \u001b[32m━━━━━━━━━━━━━━━━━━━━\u001b[0m\u001b[37m\u001b[0m \u001b[1m183s\u001b[0m 234ms/step - accuracy: 0.8288 - loss: 0.4903 - val_accuracy: 0.8265 - val_loss: 0.5205 - learning_rate: 0.0010\n",
      "Epoch 27/50\n",
      "\u001b[1m782/782\u001b[0m \u001b[32m━━━━━━━━━━━━━━━━━━━━\u001b[0m\u001b[37m\u001b[0m \u001b[1m193s\u001b[0m 247ms/step - accuracy: 0.8293 - loss: 0.4906 - val_accuracy: 0.8529 - val_loss: 0.4310 - learning_rate: 0.0010\n",
      "Epoch 28/50\n",
      "\u001b[1m782/782\u001b[0m \u001b[32m━━━━━━━━━━━━━━━━━━━━\u001b[0m\u001b[37m\u001b[0m \u001b[1m214s\u001b[0m 274ms/step - accuracy: 0.8304 - loss: 0.4908 - val_accuracy: 0.8342 - val_loss: 0.4941 - learning_rate: 0.0010\n",
      "Epoch 29/50\n",
      "\u001b[1m782/782\u001b[0m \u001b[32m━━━━━━━━━━━━━━━━━━━━\u001b[0m\u001b[37m\u001b[0m \u001b[1m189s\u001b[0m 241ms/step - accuracy: 0.8288 - loss: 0.4794 - val_accuracy: 0.8400 - val_loss: 0.4772 - learning_rate: 0.0010\n",
      "Epoch 30/50\n",
      "\u001b[1m782/782\u001b[0m \u001b[32m━━━━━━━━━━━━━━━━━━━━\u001b[0m\u001b[37m\u001b[0m \u001b[1m182s\u001b[0m 216ms/step - accuracy: 0.8342 - loss: 0.4717 - val_accuracy: 0.8241 - val_loss: 0.5413 - learning_rate: 0.0010\n",
      "Epoch 31/50\n",
      "\u001b[1m782/782\u001b[0m \u001b[32m━━━━━━━━━━━━━━━━━━━━\u001b[0m\u001b[37m\u001b[0m \u001b[1m205s\u001b[0m 219ms/step - accuracy: 0.8353 - loss: 0.4748 - val_accuracy: 0.8417 - val_loss: 0.4793 - learning_rate: 0.0010\n",
      "Epoch 32/50\n",
      "\u001b[1m782/782\u001b[0m \u001b[32m━━━━━━━━━━━━━━━━━━━━\u001b[0m\u001b[37m\u001b[0m \u001b[1m0s\u001b[0m 198ms/step - accuracy: 0.8380 - loss: 0.4654\n",
      "Epoch 32: ReduceLROnPlateau reducing learning rate to 0.0005000000237487257.\n",
      "\u001b[1m782/782\u001b[0m \u001b[32m━━━━━━━━━━━━━━━━━━━━\u001b[0m\u001b[37m\u001b[0m \u001b[1m165s\u001b[0m 211ms/step - accuracy: 0.8379 - loss: 0.4683 - val_accuracy: 0.8374 - val_loss: 0.4913 - learning_rate: 0.0010\n",
      "Epoch 33/50\n",
      "\u001b[1m782/782\u001b[0m \u001b[32m━━━━━━━━━━━━━━━━━━━━\u001b[0m\u001b[37m\u001b[0m \u001b[1m177s\u001b[0m 226ms/step - accuracy: 0.8467 - loss: 0.4402 - val_accuracy: 0.8581 - val_loss: 0.4156 - learning_rate: 5.0000e-04\n",
      "Epoch 34/50\n",
      "\u001b[1m782/782\u001b[0m \u001b[32m━━━━━━━━━━━━━━━━━━━━\u001b[0m\u001b[37m\u001b[0m \u001b[1m173s\u001b[0m 221ms/step - accuracy: 0.8493 - loss: 0.4351 - val_accuracy: 0.8551 - val_loss: 0.4235 - learning_rate: 5.0000e-04\n",
      "Epoch 35/50\n",
      "\u001b[1m782/782\u001b[0m \u001b[32m━━━━━━━━━━━━━━━━━━━━\u001b[0m\u001b[37m\u001b[0m \u001b[1m168s\u001b[0m 214ms/step - accuracy: 0.8512 - loss: 0.4194 - val_accuracy: 0.8583 - val_loss: 0.4252 - learning_rate: 5.0000e-04\n",
      "Epoch 36/50\n",
      "\u001b[1m782/782\u001b[0m \u001b[32m━━━━━━━━━━━━━━━━━━━━\u001b[0m\u001b[37m\u001b[0m \u001b[1m171s\u001b[0m 219ms/step - accuracy: 0.8536 - loss: 0.4171 - val_accuracy: 0.8599 - val_loss: 0.4294 - learning_rate: 5.0000e-04\n",
      "Epoch 37/50\n",
      "\u001b[1m782/782\u001b[0m \u001b[32m━━━━━━━━━━━━━━━━━━━━\u001b[0m\u001b[37m\u001b[0m \u001b[1m184s\u001b[0m 236ms/step - accuracy: 0.8532 - loss: 0.4178 - val_accuracy: 0.8590 - val_loss: 0.4347 - learning_rate: 5.0000e-04\n",
      "Epoch 38/50\n",
      "\u001b[1m782/782\u001b[0m \u001b[32m━━━━━━━━━━━━━━━━━━━━\u001b[0m\u001b[37m\u001b[0m \u001b[1m0s\u001b[0m 205ms/step - accuracy: 0.8561 - loss: 0.4136\n",
      "Epoch 38: ReduceLROnPlateau reducing learning rate to 0.0002500000118743628.\n",
      "\u001b[1m782/782\u001b[0m \u001b[32m━━━━━━━━━━━━━━━━━━━━\u001b[0m\u001b[37m\u001b[0m \u001b[1m169s\u001b[0m 217ms/step - accuracy: 0.8563 - loss: 0.4140 - val_accuracy: 0.8595 - val_loss: 0.4226 - learning_rate: 5.0000e-04\n",
      "Epoch 39/50\n",
      "\u001b[1m782/782\u001b[0m \u001b[32m━━━━━━━━━━━━━━━━━━━━\u001b[0m\u001b[37m\u001b[0m \u001b[1m173s\u001b[0m 221ms/step - accuracy: 0.8615 - loss: 0.3947 - val_accuracy: 0.8693 - val_loss: 0.3952 - learning_rate: 2.5000e-04\n",
      "Epoch 40/50\n",
      "\u001b[1m782/782\u001b[0m \u001b[32m━━━━━━━━━━━━━━━━━━━━\u001b[0m\u001b[37m\u001b[0m \u001b[1m168s\u001b[0m 215ms/step - accuracy: 0.8636 - loss: 0.3895 - val_accuracy: 0.8684 - val_loss: 0.3986 - learning_rate: 2.5000e-04\n",
      "Epoch 41/50\n",
      "\u001b[1m782/782\u001b[0m \u001b[32m━━━━━━━━━━━━━━━━━━━━\u001b[0m\u001b[37m\u001b[0m \u001b[1m178s\u001b[0m 227ms/step - accuracy: 0.8607 - loss: 0.3918 - val_accuracy: 0.8631 - val_loss: 0.4068 - learning_rate: 2.5000e-04\n",
      "Epoch 42/50\n",
      "\u001b[1m782/782\u001b[0m \u001b[32m━━━━━━━━━━━━━━━━━━━━\u001b[0m\u001b[37m\u001b[0m \u001b[1m174s\u001b[0m 222ms/step - accuracy: 0.8656 - loss: 0.3849 - val_accuracy: 0.8566 - val_loss: 0.4412 - learning_rate: 2.5000e-04\n",
      "Epoch 43/50\n",
      "\u001b[1m782/782\u001b[0m \u001b[32m━━━━━━━━━━━━━━━━━━━━\u001b[0m\u001b[37m\u001b[0m \u001b[1m172s\u001b[0m 220ms/step - accuracy: 0.8665 - loss: 0.3840 - val_accuracy: 0.8682 - val_loss: 0.4044 - learning_rate: 2.5000e-04\n",
      "Epoch 44/50\n",
      "\u001b[1m782/782\u001b[0m \u001b[32m━━━━━━━━━━━━━━━━━━━━\u001b[0m\u001b[37m\u001b[0m \u001b[1m0s\u001b[0m 181ms/step - accuracy: 0.8681 - loss: 0.3769\n",
      "Epoch 44: ReduceLROnPlateau reducing learning rate to 0.0001250000059371814.\n",
      "\u001b[1m782/782\u001b[0m \u001b[32m━━━━━━━━━━━━━━━━━━━━\u001b[0m\u001b[37m\u001b[0m \u001b[1m149s\u001b[0m 190ms/step - accuracy: 0.8667 - loss: 0.3829 - val_accuracy: 0.8655 - val_loss: 0.4127 - learning_rate: 2.5000e-04\n",
      "Epoch 45/50\n",
      "\u001b[1m782/782\u001b[0m \u001b[32m━━━━━━━━━━━━━━━━━━━━\u001b[0m\u001b[37m\u001b[0m \u001b[1m160s\u001b[0m 205ms/step - accuracy: 0.8691 - loss: 0.3739 - val_accuracy: 0.8704 - val_loss: 0.3969 - learning_rate: 1.2500e-04\n",
      "Epoch 46/50\n",
      "\u001b[1m782/782\u001b[0m \u001b[32m━━━━━━━━━━━━━━━━━━━━\u001b[0m\u001b[37m\u001b[0m \u001b[1m175s\u001b[0m 224ms/step - accuracy: 0.8687 - loss: 0.3750 - val_accuracy: 0.8687 - val_loss: 0.4006 - learning_rate: 1.2500e-04\n",
      "Epoch 47/50\n",
      "\u001b[1m782/782\u001b[0m \u001b[32m━━━━━━━━━━━━━━━━━━━━\u001b[0m\u001b[37m\u001b[0m \u001b[1m177s\u001b[0m 227ms/step - accuracy: 0.8702 - loss: 0.3713 - val_accuracy: 0.8680 - val_loss: 0.3974 - learning_rate: 1.2500e-04\n",
      "Epoch 48/50\n",
      "\u001b[1m782/782\u001b[0m \u001b[32m━━━━━━━━━━━━━━━━━━━━\u001b[0m\u001b[37m\u001b[0m \u001b[1m170s\u001b[0m 218ms/step - accuracy: 0.8701 - loss: 0.3684 - val_accuracy: 0.8712 - val_loss: 0.3905 - learning_rate: 1.2500e-04\n",
      "Epoch 49/50\n",
      "\u001b[1m782/782\u001b[0m \u001b[32m━━━━━━━━━━━━━━━━━━━━\u001b[0m\u001b[37m\u001b[0m \u001b[1m114s\u001b[0m 146ms/step - accuracy: 0.8717 - loss: 0.3691 - val_accuracy: 0.8687 - val_loss: 0.3939 - learning_rate: 1.2500e-04\n",
      "Epoch 50/50\n",
      "\u001b[1m782/782\u001b[0m \u001b[32m━━━━━━━━━━━━━━━━━━━━\u001b[0m\u001b[37m\u001b[0m \u001b[1m112s\u001b[0m 144ms/step - accuracy: 0.8714 - loss: 0.3684 - val_accuracy: 0.8672 - val_loss: 0.3983 - learning_rate: 1.2500e-04\n"
     ]
    }
   ],
   "source": [
    "# Compile model\n",
    "opt = keras.optimizers.Adam(\n",
    "    learning_rate=1e-3\n",
    ")\n",
    "\n",
    "model_2.compile(loss='categorical_crossentropy',\n",
    "                optimizer=opt,\n",
    "                metrics=['accuracy'])\n",
    "\n",
    "# Data augmentation\n",
    "datagen = ImageDataGenerator(\n",
    "    width_shift_range=0.1,\n",
    "    height_shift_range=0.1,\n",
    "    horizontal_flip=True\n",
    ")\n",
    "datagen.fit(x_train)\n",
    "\n",
    "# Train the model with callbacks\n",
    "batch_size = 64        \n",
    "epochs = 50\n",
    "\n",
    "history = model_2.fit(\n",
    "    datagen.flow(x_train, y_train, batch_size=batch_size),\n",
    "    epochs=epochs,\n",
    "    validation_data=(x_test, y_test),\n",
    "    callbacks=[\n",
    "        keras.callbacks.ReduceLROnPlateau(\n",
    "            factor=0.5, \n",
    "            patience=5,\n",
    "            min_lr=1e-5, verbose=1),\n",
    "        keras.callbacks.EarlyStopping(patience=10, restore_best_weights=True)\n",
    "    ]\n",
    ")"
   ]
  },
  {
   "cell_type": "code",
   "execution_count": null,
   "id": "3b4f30b2-772e-4983-b7bf-0e764e41e89c",
   "metadata": {},
   "outputs": [
    {
     "name": "stdout",
     "output_type": "stream",
     "text": [
      "\u001b[1m313/313\u001b[0m \u001b[32m━━━━━━━━━━━━━━━━━━━━\u001b[0m\u001b[37m\u001b[0m \u001b[1m6s\u001b[0m 18ms/step\n"
     ]
    }
   ],
   "source": [
    "# Evaluate model performance\n",
    "y_test_trans = np.argmax(y_test, axis=1)\n",
    "\n",
    "y_pred = np.argmax(model_2.predict(x_test), axis=1)"
   ]
  },
  {
   "cell_type": "code",
   "execution_count": null,
   "id": "56831479-4a3c-4861-9178-31645d7f034d",
   "metadata": {},
   "outputs": [],
   "source": [
    "# Print classification results\n",
    "def print_accuracy_result(y_test, y_pred):\n",
    "    clsf_report = pd.DataFrame(\n",
    "        classification_report(y_test, y_pred, output_dict=True)\n",
    "    )\n",
    "    print(\n",
    "        f'Accuracy Score: {accuracy_score(y_test_trans, y_pred)}\\n'\n",
    "        f'======================================================\\n'\n",
    "        f'Classification Report: {clsf_report}\\n'\n",
    "        f'======================================================\\n'\n",
    "        f'Confusion Matrix: {confusion_matrix(y_test, y_pred)}'\n",
    "    )"
   ]
  },
  {
   "cell_type": "code",
   "execution_count": 13,
   "id": "fa4f2a71-c2e8-45f6-b538-7248ca5a1b15",
   "metadata": {},
   "outputs": [
    {
     "name": "stdout",
     "output_type": "stream",
     "text": [
      "Accuracy Score: 0.8712\n",
      "======================================================\n",
      "Classification Report:                      0            1            2            3            4  \\\n",
      "precision     0.882759     0.927466     0.867470     0.790152     0.855058   \n",
      "recall        0.896000     0.959000     0.792000     0.674000     0.879000   \n",
      "f1-score      0.889330     0.942970     0.828019     0.727469     0.866864   \n",
      "support    1000.000000  1000.000000  1000.000000  1000.000000  1000.000000   \n",
      "\n",
      "                     5            6            7            8            9  \\\n",
      "precision     0.837460     0.792251     0.914744     0.928287     0.916174   \n",
      "recall        0.778000     0.961000     0.912000     0.932000     0.929000   \n",
      "f1-score      0.806636     0.868504     0.913370     0.930140     0.922542   \n",
      "support    1000.000000  1000.000000  1000.000000  1000.000000  1000.000000   \n",
      "\n",
      "           accuracy     macro avg  weighted avg  \n",
      "precision    0.8712      0.871182      0.871182  \n",
      "recall       0.8712      0.871200      0.871200  \n",
      "f1-score     0.8712      0.869584      0.869584  \n",
      "support      0.8712  10000.000000  10000.000000  \n",
      "======================================================\n",
      "Confusion Matrix: [[896   7  23   5  11   0   9   4  29  16]\n",
      " [  4 959   0   1   1   0   2   1   6  26]\n",
      " [ 35   2 792  21  38  24  69   9   4   6]\n",
      " [ 14   7  34 674  42  98  85  20  11  15]\n",
      " [  2   1  25  15 879   9  44  18   6   1]\n",
      " [  7   3  17 106  27 778  30  27   3   2]\n",
      " [  5   1  11  11   4   2 961   2   2   1]\n",
      " [ 10   1  10  13  25  17   7 912   1   4]\n",
      " [ 30  14   0   4   1   0   4   1 932  14]\n",
      " [ 12  39   1   3   0   1   2   3  10 929]]\n"
     ]
    }
   ],
   "source": [
    "print_accuracy_result(\n",
    "    y_test=y_test_trans,\n",
    "    y_pred=y_pred\n",
    ")"
   ]
  },
  {
   "cell_type": "code",
   "execution_count": 14,
   "id": "983a30ce-6979-4949-ae6e-6a00910082eb",
   "metadata": {},
   "outputs": [
    {
     "name": "stderr",
     "output_type": "stream",
     "text": [
      "Clipping input data to the valid range for imshow with RGB data ([0..1] for floats or [0..255] for integers). Got range [-1.9641316203788766..2.1267894060915165].\n"
     ]
    },
    {
     "data": {
      "text/plain": [
       "<matplotlib.image.AxesImage at 0x229c857fc10>"
      ]
     },
     "execution_count": 14,
     "metadata": {},
     "output_type": "execute_result"
    },
    {
     "data": {
      "image/png": "[encoded data removed]",
      "text/plain": [
       "<Figure size 640x480 with 1 Axes>"
      ]
     },
     "metadata": {},
     "output_type": "display_data"
    }
   ],
   "source": [
    "plt.imshow(x_test[444])"
   ]
  },
  {
   "cell_type": "code",
   "execution_count": null,
   "id": "190cea9f-d6ad-486e-80bd-a26ee98dad53",
   "metadata": {},
   "outputs": [],
   "source": [
    "# CIFAR-10 class labels\n",
    "cifar10_labels = [\n",
    "    \"airplane\", \"automobile\", \"bird\", \"cat\", \"deer\",\n",
    "    \"dog\", \"frog\", \"horse\", \"ship\", \"truck\"\n",
    "]"
   ]
  },
  {
   "cell_type": "code",
   "execution_count": null,
   "id": "0214da8b-ff96-4faa-b312-3fde078c74db",
   "metadata": {},
   "outputs": [],
   "source": [
    "# Function to show prediction vs reality\n",
    "def predict_and_show(idx):\n",
    "    img = x_test[idx]\n",
    "    true_class = y_test_trans[idx]\n",
    "    \n",
    "    pred_prob = model_2.predict(np.expand_dims(img, axis=0), verbose=0)\n",
    "    pred_class= np.argmax(pred_prob)\n",
    "\n",
    "    restored_img = (img * std + mean).astype(np.uint8)\n",
    "    \n",
    "    if restored_img.ndim == 4:\n",
    "        restored_img = restored_img[0]\n",
    "  \n",
    "    plt.imshow(restored_img)\n",
    "    plt.title(f'Reality: {cifar10_labels[true_class]}\\nPrediction: {cifar10_labels[pred_class]}')\n",
    "    plt.axis('off')\n",
    "    plt.show()"
   ]
  },
  {
   "cell_type": "code",
   "execution_count": 23,
   "id": "dfaee7ac-89b1-4445-b377-a14193fb5860",
   "metadata": {},
   "outputs": [
    {
     "data": {
      "image/png": "[encoded data removed]",
      "text/plain": [
       "<Figure size 640x480 with 1 Axes>"
      ]
     },
     "metadata": {},
     "output_type": "display_data"
    }
   ],
   "source": [
    "predict_and_show(444)"
   ]
  },
  {
   "cell_type": "code",
   "execution_count": null,
   "id": "3e225064-a4ba-45bf-9d0e-408c679b1096",
   "metadata": {},
   "outputs": [],
   "source": [
    "# Function to show prediction with probability distribution\n",
    "def predict_with_probs(idx):\n",
    "    img = x_test[idx]\n",
    "    true_class = y_test_trans[idx]\n",
    "\n",
    "    probs = model_2.predict(np.expand_dims(img, axis=0), verbose=0)[0]\n",
    "    pred_class = np.argmax(probs)\n",
    "\n",
    "    restored_img = (img * std + mean).astype(np.uint8)\n",
    "\n",
    "    if restored_img.ndim == 4:\n",
    "        restored_img = restored_img[0]\n",
    "\n",
    "    fig, axs = plt.subplots(1, 2, figsize=(12, 4))\n",
    "\n",
    "    axs[0].imshow(restored_img)\n",
    "    axs[0].axis('off')\n",
    "    axs[0].set_title(f'Reality: {cifar10_labels[true_class]}\\nPrediction :{cifar10_labels[pred_class]}')\n",
    "\n",
    "    axs[1].barh(cifar10_labels, probs, color='skyblue')\n",
    "    axs[1].set_xlim(0, 1)\n",
    "    axs[1].set_title('Class Probability')\n",
    "    axs[1].invert_yaxis()\n",
    "    for i, v in enumerate(probs):\n",
    "        axs[1].text(v + 0.01, i, f'{v:.2f}', va='center')\n",
    "\n",
    "    plt.tight_layout()\n",
    "    plt.show()"
   ]
  },
  {
   "cell_type": "code",
   "execution_count": 30,
   "id": "6260f967-a632-4cda-a7e4-23eeb97d3f6b",
   "metadata": {},
   "outputs": [
    {
     "data": {
      "image/png": "[encoded data removed]",
      "text/plain": [
       "<Figure size 1200x400 with 2 Axes>"
      ]
     },
     "metadata": {},
     "output_type": "display_data"
    }
   ],
   "source": [
    "predict_with_probs(444)"
   ]
  },
  {
   "cell_type": "code",
   "execution_count": null,
   "id": "e0d34d5d-a22d-4279-a463-0bc8cba75bf5",
   "metadata": {},
   "outputs": [],
   "source": []
  }
 ],
 "metadata": {
  "kernelspec": {
   "display_name": "Python 3",
   "language": "python",
   "name": "python3"
  },
  "language_info": {
   "codemirror_mode": {
    "name": "ipython",
    "version": 3
   },
   "file_extension": ".py",
   "mimetype": "text/x-python",
   "name": "python",
   "nbconvert_exporter": "python",
   "pygments_lexer": "ipython3",
   "version": "3.10.0"
  },
  "widgets": {
   "application/vnd.jupyter.widget-state+json": {
    "state": {},
    "version_major": 2,
    "version_minor": 0
   }
  }
 },
 "nbformat": 4,
 "nbformat_minor": 5
}
